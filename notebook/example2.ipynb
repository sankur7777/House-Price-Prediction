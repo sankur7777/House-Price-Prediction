{
 "cells": [
  {
   "cell_type": "code",
   "execution_count": null,
   "metadata": {},
   "outputs": [],
   "source": []
  }
 ],
 "metadata": {
  "kernelspec": {
   "display_name": "Python 3.7.0",
   "language": "python",
   "name": "python3"
  },
  "language_info": {
   "name": "python",
   "version": "3.7.0"
  },
  "orig_nbformat": 4,
  "vscode": {
   "interpreter": {
    "hash": "595ebabf56d87951626ef4f5f7dbe236807a00c7b52229d2d387c9dfa8f5c41e"
   }
  }
 },
 "nbformat": 4,
 "nbformat_minor": 2
}
